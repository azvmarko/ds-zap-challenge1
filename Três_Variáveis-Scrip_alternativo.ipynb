{
 "cells": [
  {
   "cell_type": "markdown",
   "metadata": {},
   "source": [
    "# MARCOS JOSÉ AZEVEDO"
   ]
  },
  {
   "attachments": {},
   "cell_type": "markdown",
   "metadata": {},
   "source": [
    "# Esse script faz uma predição usando apenas as 3 features escolhidas para o teste: useableAreas, bathrooms e suítes."
   ]
  },
  {
   "cell_type": "markdown",
   "metadata": {},
   "source": [
    "# Importando as Bibliotecas"
   ]
  },
  {
   "cell_type": "code",
   "execution_count": 1,
   "metadata": {
    "ExecuteTime": {
     "end_time": "2019-08-11T22:49:36.422726Z",
     "start_time": "2019-08-11T22:49:34.260935Z"
    }
   },
   "outputs": [],
   "source": [
    "import json\n",
    "import pandas as pd\n",
    "import requests\n",
    "from pandas.io.json import json_normalize\n",
    "import matplotlib.pyplot as plt\n",
    "import seaborn as sns\n",
    "import numpy as np\n",
    "import statsmodels.formula.api as smf\n",
    "from sklearn import metrics\n",
    "from sklearn.ensemble import RandomForestRegressor\n",
    "from sklearn.ensemble import GradientBoostingRegressor\n",
    "from sklearn.linear_model import LinearRegression\n",
    "from sklearn.linear_model import LogisticRegression\n",
    "\n",
    "from sklearn.model_selection import train_test_split\n",
    "from sklearn.metrics import mean_squared_error, r2_score, roc_curve, roc_auc_score\n",
    "\n",
    "\n",
    "import warnings\n",
    "warnings.filterwarnings('ignore')\n"
   ]
  },
  {
   "cell_type": "markdown",
   "metadata": {},
   "source": [
    "# Importando o arquivo treino"
   ]
  },
  {
   "cell_type": "code",
   "execution_count": 2,
   "metadata": {
    "ExecuteTime": {
     "end_time": "2019-08-11T22:49:55.818997Z",
     "start_time": "2019-08-11T22:49:55.810999Z"
    }
   },
   "outputs": [],
   "source": [
    "url_treino = \"https://s3.amazonaws.com/grupozap-data-challenge/data/source-4-ds-train.json.zip\""
   ]
  },
  {
   "cell_type": "code",
   "execution_count": 3,
   "metadata": {
    "ExecuteTime": {
     "end_time": "2019-08-11T22:51:38.968062Z",
     "start_time": "2019-08-11T22:50:03.317000Z"
    }
   },
   "outputs": [],
   "source": [
    "json = pd.read_json(url_treino, encoding=\"utf8\", lines=True)"
   ]
  },
  {
   "cell_type": "code",
   "execution_count": 4,
   "metadata": {
    "ExecuteTime": {
     "end_time": "2019-08-11T22:51:39.068515Z",
     "start_time": "2019-08-11T22:51:38.968062Z"
    }
   },
   "outputs": [
    {
     "data": {
      "text/html": [
       "<div>\n",
       "<style scoped>\n",
       "    .dataframe tbody tr th:only-of-type {\n",
       "        vertical-align: middle;\n",
       "    }\n",
       "\n",
       "    .dataframe tbody tr th {\n",
       "        vertical-align: top;\n",
       "    }\n",
       "\n",
       "    .dataframe thead th {\n",
       "        text-align: right;\n",
       "    }\n",
       "</style>\n",
       "<table border=\"1\" class=\"dataframe\">\n",
       "  <thead>\n",
       "    <tr style=\"text-align: right;\">\n",
       "      <th></th>\n",
       "      <th>usableAreas</th>\n",
       "      <th>description</th>\n",
       "      <th>title</th>\n",
       "      <th>createdAt</th>\n",
       "      <th>publisherId</th>\n",
       "      <th>unitTypes</th>\n",
       "      <th>listingStatus</th>\n",
       "      <th>id</th>\n",
       "      <th>parkingSpaces</th>\n",
       "      <th>updatedAt</th>\n",
       "      <th>owner</th>\n",
       "      <th>images</th>\n",
       "      <th>address</th>\n",
       "      <th>suites</th>\n",
       "      <th>publicationType</th>\n",
       "      <th>bathrooms</th>\n",
       "      <th>totalAreas</th>\n",
       "      <th>bedrooms</th>\n",
       "      <th>pricingInfos</th>\n",
       "    </tr>\n",
       "  </thead>\n",
       "  <tbody>\n",
       "    <tr>\n",
       "      <th>0</th>\n",
       "      <td>388.0</td>\n",
       "      <td>04 dorms sendo 01 suíte e closet, sala de esta...</td>\n",
       "      <td>PRÓXIMO A AVENIDA PRESIDENTE TANCREDO NEVES</td>\n",
       "      <td>2017-02-07T13:21:40Z</td>\n",
       "      <td>f4603b2b52</td>\n",
       "      <td>TWO_STORY_HOUSE</td>\n",
       "      <td>ACTIVE</td>\n",
       "      <td>787c7bd19d</td>\n",
       "      <td>6.0</td>\n",
       "      <td>2018-12-06T19:27:12.623Z</td>\n",
       "      <td>False</td>\n",
       "      <td>[https://s3-sa-east-1.amazonaws.com/vr.images....</td>\n",
       "      <td>{'country': 'BR', 'zipCode': '04290030', 'city...</td>\n",
       "      <td>1.0</td>\n",
       "      <td>STANDARD</td>\n",
       "      <td>3.0</td>\n",
       "      <td>388.0</td>\n",
       "      <td>4.0</td>\n",
       "      <td>{'price': 700000, 'businessType': 'SALE'}</td>\n",
       "    </tr>\n",
       "    <tr>\n",
       "      <th>1</th>\n",
       "      <td>129.0</td>\n",
       "      <td>03 dorms sendo 01 suíte, sala, sala de jantar,...</td>\n",
       "      <td>PRÓXIMO A FACULDADE UNIP CAMPUS ANCHIETA</td>\n",
       "      <td>2016-03-21T18:35:17Z</td>\n",
       "      <td>f4603b2b52</td>\n",
       "      <td>HOME</td>\n",
       "      <td>ACTIVE</td>\n",
       "      <td>4d68c0cdbe</td>\n",
       "      <td>2.0</td>\n",
       "      <td>2018-12-12T13:17:23.547Z</td>\n",
       "      <td>False</td>\n",
       "      <td>[https://s3-sa-east-1.amazonaws.com/vr.images....</td>\n",
       "      <td>{'country': 'BR', 'zipCode': '04187320', 'city...</td>\n",
       "      <td>1.0</td>\n",
       "      <td>STANDARD</td>\n",
       "      <td>2.0</td>\n",
       "      <td>129.0</td>\n",
       "      <td>3.0</td>\n",
       "      <td>{'price': 336000, 'businessType': 'SALE'}</td>\n",
       "    </tr>\n",
       "    <tr>\n",
       "      <th>2</th>\n",
       "      <td>396.0</td>\n",
       "      <td>Andar com 395,70m² de área útil, 04 wcs, 05 va...</td>\n",
       "      <td>Excelente Conjunto Comercial na Av. Paulista</td>\n",
       "      <td>2018-12-18T23:47:03.425Z</td>\n",
       "      <td>501f6d5e94</td>\n",
       "      <td>COMMERCIAL_PROPERTY</td>\n",
       "      <td>ACTIVE</td>\n",
       "      <td>e7e0b554ac</td>\n",
       "      <td>5.0</td>\n",
       "      <td>NaN</td>\n",
       "      <td>False</td>\n",
       "      <td>[http://static.nidoimovel.com.br/d3d9446802a44...</td>\n",
       "      <td>{'country': '', 'zipCode': '01311000', 'city':...</td>\n",
       "      <td>0.0</td>\n",
       "      <td>STANDARD</td>\n",
       "      <td>4.0</td>\n",
       "      <td>NaN</td>\n",
       "      <td>0.0</td>\n",
       "      <td>{'period': 'MONTHLY', 'yearlyIptu': 4040, 'pri...</td>\n",
       "    </tr>\n",
       "  </tbody>\n",
       "</table>\n",
       "</div>"
      ],
      "text/plain": [
       "   usableAreas                                        description  \\\n",
       "0        388.0  04 dorms sendo 01 suíte e closet, sala de esta...   \n",
       "1        129.0  03 dorms sendo 01 suíte, sala, sala de jantar,...   \n",
       "2        396.0  Andar com 395,70m² de área útil, 04 wcs, 05 va...   \n",
       "\n",
       "                                          title                 createdAt  \\\n",
       "0   PRÓXIMO A AVENIDA PRESIDENTE TANCREDO NEVES      2017-02-07T13:21:40Z   \n",
       "1      PRÓXIMO A FACULDADE UNIP CAMPUS ANCHIETA      2016-03-21T18:35:17Z   \n",
       "2  Excelente Conjunto Comercial na Av. Paulista  2018-12-18T23:47:03.425Z   \n",
       "\n",
       "  publisherId            unitTypes listingStatus          id  parkingSpaces  \\\n",
       "0  f4603b2b52      TWO_STORY_HOUSE        ACTIVE  787c7bd19d            6.0   \n",
       "1  f4603b2b52                 HOME        ACTIVE  4d68c0cdbe            2.0   \n",
       "2  501f6d5e94  COMMERCIAL_PROPERTY        ACTIVE  e7e0b554ac            5.0   \n",
       "\n",
       "                  updatedAt  owner  \\\n",
       "0  2018-12-06T19:27:12.623Z  False   \n",
       "1  2018-12-12T13:17:23.547Z  False   \n",
       "2                       NaN  False   \n",
       "\n",
       "                                              images  \\\n",
       "0  [https://s3-sa-east-1.amazonaws.com/vr.images....   \n",
       "1  [https://s3-sa-east-1.amazonaws.com/vr.images....   \n",
       "2  [http://static.nidoimovel.com.br/d3d9446802a44...   \n",
       "\n",
       "                                             address  suites publicationType  \\\n",
       "0  {'country': 'BR', 'zipCode': '04290030', 'city...     1.0        STANDARD   \n",
       "1  {'country': 'BR', 'zipCode': '04187320', 'city...     1.0        STANDARD   \n",
       "2  {'country': '', 'zipCode': '01311000', 'city':...     0.0        STANDARD   \n",
       "\n",
       "   bathrooms  totalAreas  bedrooms  \\\n",
       "0        3.0       388.0       4.0   \n",
       "1        2.0       129.0       3.0   \n",
       "2        4.0         NaN       0.0   \n",
       "\n",
       "                                        pricingInfos  \n",
       "0          {'price': 700000, 'businessType': 'SALE'}  \n",
       "1          {'price': 336000, 'businessType': 'SALE'}  \n",
       "2  {'period': 'MONTHLY', 'yearlyIptu': 4040, 'pri...  "
      ]
     },
     "execution_count": 4,
     "metadata": {},
     "output_type": "execute_result"
    }
   ],
   "source": [
    "json.head(3)"
   ]
  },
  {
   "cell_type": "markdown",
   "metadata": {},
   "source": [
    "# Normalizando as colunas"
   ]
  },
  {
   "cell_type": "code",
   "execution_count": 5,
   "metadata": {
    "ExecuteTime": {
     "end_time": "2019-08-11T22:51:39.752178Z",
     "start_time": "2019-08-11T22:51:39.072514Z"
    }
   },
   "outputs": [],
   "source": [
    "df_treino = (pd.DataFrame(json['pricingInfos']\n",
    "                     .values.tolist())\n",
    "                     .add_prefix('pricingInfos_')\n",
    "                     .join(json.drop('pricingInfos', 1)))"
   ]
  },
  {
   "cell_type": "code",
   "execution_count": 6,
   "metadata": {
    "ExecuteTime": {
     "end_time": "2019-08-11T22:51:40.856817Z",
     "start_time": "2019-08-11T22:51:39.752178Z"
    }
   },
   "outputs": [],
   "source": [
    "df_treino = (pd.DataFrame(df_treino['address']\n",
    "                     .values.tolist())\n",
    "                     .add_prefix('address_')\n",
    "                     .join(df_treino.drop('address', 1)))"
   ]
  },
  {
   "cell_type": "code",
   "execution_count": 7,
   "metadata": {
    "ExecuteTime": {
     "end_time": "2019-08-11T22:51:40.912801Z",
     "start_time": "2019-08-11T22:51:40.856817Z"
    }
   },
   "outputs": [
    {
     "data": {
      "text/html": [
       "<div>\n",
       "<style scoped>\n",
       "    .dataframe tbody tr th:only-of-type {\n",
       "        vertical-align: middle;\n",
       "    }\n",
       "\n",
       "    .dataframe tbody tr th {\n",
       "        vertical-align: top;\n",
       "    }\n",
       "\n",
       "    .dataframe thead th {\n",
       "        text-align: right;\n",
       "    }\n",
       "</style>\n",
       "<table border=\"1\" class=\"dataframe\">\n",
       "  <thead>\n",
       "    <tr style=\"text-align: right;\">\n",
       "      <th></th>\n",
       "      <th>address_country</th>\n",
       "      <th>address_zipCode</th>\n",
       "      <th>address_city</th>\n",
       "      <th>address_streetNumber</th>\n",
       "      <th>address_zone</th>\n",
       "      <th>address_geoLocation</th>\n",
       "      <th>address_street</th>\n",
       "      <th>address_locationId</th>\n",
       "      <th>address_district</th>\n",
       "      <th>address_unitNumber</th>\n",
       "      <th>...</th>\n",
       "      <th>id</th>\n",
       "      <th>parkingSpaces</th>\n",
       "      <th>updatedAt</th>\n",
       "      <th>owner</th>\n",
       "      <th>images</th>\n",
       "      <th>suites</th>\n",
       "      <th>publicationType</th>\n",
       "      <th>bathrooms</th>\n",
       "      <th>totalAreas</th>\n",
       "      <th>bedrooms</th>\n",
       "    </tr>\n",
       "  </thead>\n",
       "  <tbody>\n",
       "    <tr>\n",
       "      <th>0</th>\n",
       "      <td>BR</td>\n",
       "      <td>04290030</td>\n",
       "      <td>São Paulo</td>\n",
       "      <td>53</td>\n",
       "      <td>Zona Sul</td>\n",
       "      <td>{'precision': 'ROOFTOP', 'location': {'lon': -...</td>\n",
       "      <td>Rua Juvenal Galeno</td>\n",
       "      <td>BR&gt;Sao Paulo&gt;NULL&gt;Sao Paulo&gt;Zona Sul&gt;Jardim da...</td>\n",
       "      <td></td>\n",
       "      <td></td>\n",
       "      <td>...</td>\n",
       "      <td>787c7bd19d</td>\n",
       "      <td>6.0</td>\n",
       "      <td>2018-12-06T19:27:12.623Z</td>\n",
       "      <td>False</td>\n",
       "      <td>[https://s3-sa-east-1.amazonaws.com/vr.images....</td>\n",
       "      <td>1.0</td>\n",
       "      <td>STANDARD</td>\n",
       "      <td>3.0</td>\n",
       "      <td>388.0</td>\n",
       "      <td>4.0</td>\n",
       "    </tr>\n",
       "    <tr>\n",
       "      <th>1</th>\n",
       "      <td>BR</td>\n",
       "      <td>04187320</td>\n",
       "      <td>São Paulo</td>\n",
       "      <td>16</td>\n",
       "      <td>Zona Sul</td>\n",
       "      <td>{'precision': 'RANGE_INTERPOLATED', 'location'...</td>\n",
       "      <td>Rua Juruaba</td>\n",
       "      <td>BR&gt;Sao Paulo&gt;NULL&gt;Sao Paulo&gt;Zona Sul&gt;Vila Liviero</td>\n",
       "      <td></td>\n",
       "      <td></td>\n",
       "      <td>...</td>\n",
       "      <td>4d68c0cdbe</td>\n",
       "      <td>2.0</td>\n",
       "      <td>2018-12-12T13:17:23.547Z</td>\n",
       "      <td>False</td>\n",
       "      <td>[https://s3-sa-east-1.amazonaws.com/vr.images....</td>\n",
       "      <td>1.0</td>\n",
       "      <td>STANDARD</td>\n",
       "      <td>2.0</td>\n",
       "      <td>129.0</td>\n",
       "      <td>3.0</td>\n",
       "    </tr>\n",
       "    <tr>\n",
       "      <th>2</th>\n",
       "      <td></td>\n",
       "      <td>01311000</td>\n",
       "      <td>São Paulo</td>\n",
       "      <td>402</td>\n",
       "      <td></td>\n",
       "      <td>{'precision': 'ROOFTOP', 'location': {'lon': -...</td>\n",
       "      <td>Avenida Paulista</td>\n",
       "      <td>BR&gt;Sao Paulo&gt;NULL&gt;Sao Paulo&gt;Centro&gt;Cerqueira C...</td>\n",
       "      <td></td>\n",
       "      <td></td>\n",
       "      <td>...</td>\n",
       "      <td>e7e0b554ac</td>\n",
       "      <td>5.0</td>\n",
       "      <td>NaN</td>\n",
       "      <td>False</td>\n",
       "      <td>[http://static.nidoimovel.com.br/d3d9446802a44...</td>\n",
       "      <td>0.0</td>\n",
       "      <td>STANDARD</td>\n",
       "      <td>4.0</td>\n",
       "      <td>NaN</td>\n",
       "      <td>0.0</td>\n",
       "    </tr>\n",
       "  </tbody>\n",
       "</table>\n",
       "<p>3 rows × 35 columns</p>\n",
       "</div>"
      ],
      "text/plain": [
       "  address_country address_zipCode address_city address_streetNumber  \\\n",
       "0              BR        04290030    São Paulo                   53   \n",
       "1              BR        04187320    São Paulo                   16   \n",
       "2                        01311000    São Paulo                  402   \n",
       "\n",
       "  address_zone                                address_geoLocation  \\\n",
       "0     Zona Sul  {'precision': 'ROOFTOP', 'location': {'lon': -...   \n",
       "1     Zona Sul  {'precision': 'RANGE_INTERPOLATED', 'location'...   \n",
       "2               {'precision': 'ROOFTOP', 'location': {'lon': -...   \n",
       "\n",
       "       address_street                                 address_locationId  \\\n",
       "0  Rua Juvenal Galeno  BR>Sao Paulo>NULL>Sao Paulo>Zona Sul>Jardim da...   \n",
       "1         Rua Juruaba  BR>Sao Paulo>NULL>Sao Paulo>Zona Sul>Vila Liviero   \n",
       "2    Avenida Paulista  BR>Sao Paulo>NULL>Sao Paulo>Centro>Cerqueira C...   \n",
       "\n",
       "  address_district address_unitNumber  ...          id parkingSpaces  \\\n",
       "0                                      ...  787c7bd19d           6.0   \n",
       "1                                      ...  4d68c0cdbe           2.0   \n",
       "2                                      ...  e7e0b554ac           5.0   \n",
       "\n",
       "                  updatedAt  owner  \\\n",
       "0  2018-12-06T19:27:12.623Z  False   \n",
       "1  2018-12-12T13:17:23.547Z  False   \n",
       "2                       NaN  False   \n",
       "\n",
       "                                              images  suites  publicationType  \\\n",
       "0  [https://s3-sa-east-1.amazonaws.com/vr.images....     1.0         STANDARD   \n",
       "1  [https://s3-sa-east-1.amazonaws.com/vr.images....     1.0         STANDARD   \n",
       "2  [http://static.nidoimovel.com.br/d3d9446802a44...     0.0         STANDARD   \n",
       "\n",
       "   bathrooms  totalAreas bedrooms  \n",
       "0        3.0       388.0      4.0  \n",
       "1        2.0       129.0      3.0  \n",
       "2        4.0         NaN      0.0  \n",
       "\n",
       "[3 rows x 35 columns]"
      ]
     },
     "execution_count": 7,
     "metadata": {},
     "output_type": "execute_result"
    }
   ],
   "source": [
    "df_treino.head(3)"
   ]
  },
  {
   "cell_type": "code",
   "execution_count": 8,
   "metadata": {
    "ExecuteTime": {
     "end_time": "2019-08-11T22:53:20.377103Z",
     "start_time": "2019-08-11T22:51:40.912801Z"
    }
   },
   "outputs": [],
   "source": [
    "s = df_treino['address_geoLocation'].apply(pd.Series).add_prefix(\"geoLocation_\")"
   ]
  },
  {
   "cell_type": "code",
   "execution_count": 9,
   "metadata": {
    "ExecuteTime": {
     "end_time": "2019-08-11T22:53:20.410452Z",
     "start_time": "2019-08-11T22:53:20.377103Z"
    }
   },
   "outputs": [
    {
     "data": {
      "text/html": [
       "<div>\n",
       "<style scoped>\n",
       "    .dataframe tbody tr th:only-of-type {\n",
       "        vertical-align: middle;\n",
       "    }\n",
       "\n",
       "    .dataframe tbody tr th {\n",
       "        vertical-align: top;\n",
       "    }\n",
       "\n",
       "    .dataframe thead th {\n",
       "        text-align: right;\n",
       "    }\n",
       "</style>\n",
       "<table border=\"1\" class=\"dataframe\">\n",
       "  <thead>\n",
       "    <tr style=\"text-align: right;\">\n",
       "      <th></th>\n",
       "      <th>geoLocation_0</th>\n",
       "      <th>geoLocation_location</th>\n",
       "      <th>geoLocation_precision</th>\n",
       "    </tr>\n",
       "  </thead>\n",
       "  <tbody>\n",
       "    <tr>\n",
       "      <th>0</th>\n",
       "      <td>NaN</td>\n",
       "      <td>{'lon': -46.614222, 'lat': -23.612923}</td>\n",
       "      <td>ROOFTOP</td>\n",
       "    </tr>\n",
       "    <tr>\n",
       "      <th>1</th>\n",
       "      <td>NaN</td>\n",
       "      <td>{'lon': -46.593475, 'lat': -23.643962}</td>\n",
       "      <td>RANGE_INTERPOLATED</td>\n",
       "    </tr>\n",
       "    <tr>\n",
       "      <th>2</th>\n",
       "      <td>NaN</td>\n",
       "      <td>{'lon': -46.647452, 'lat': -23.568559}</td>\n",
       "      <td>ROOFTOP</td>\n",
       "    </tr>\n",
       "  </tbody>\n",
       "</table>\n",
       "</div>"
      ],
      "text/plain": [
       "   geoLocation_0                    geoLocation_location geoLocation_precision\n",
       "0            NaN  {'lon': -46.614222, 'lat': -23.612923}               ROOFTOP\n",
       "1            NaN  {'lon': -46.593475, 'lat': -23.643962}    RANGE_INTERPOLATED\n",
       "2            NaN  {'lon': -46.647452, 'lat': -23.568559}               ROOFTOP"
      ]
     },
     "execution_count": 9,
     "metadata": {},
     "output_type": "execute_result"
    }
   ],
   "source": [
    "s.head(3)"
   ]
  },
  {
   "cell_type": "code",
   "execution_count": 10,
   "metadata": {
    "ExecuteTime": {
     "end_time": "2019-08-11T22:53:21.004575Z",
     "start_time": "2019-08-11T22:53:20.414450Z"
    }
   },
   "outputs": [],
   "source": [
    "df_treino = pd.concat([df_treino.drop([\"address_geoLocation\"], axis=1), s], axis=1)"
   ]
  },
  {
   "cell_type": "code",
   "execution_count": 11,
   "metadata": {
    "ExecuteTime": {
     "end_time": "2019-08-11T22:54:56.169919Z",
     "start_time": "2019-08-11T22:53:21.004575Z"
    }
   },
   "outputs": [],
   "source": [
    "geolocation = df_treino['geoLocation_location'].apply(pd.Series).add_prefix(\"geolocation_\")"
   ]
  },
  {
   "cell_type": "code",
   "execution_count": 12,
   "metadata": {
    "ExecuteTime": {
     "end_time": "2019-08-11T22:54:56.187877Z",
     "start_time": "2019-08-11T22:54:56.171218Z"
    }
   },
   "outputs": [
    {
     "data": {
      "text/html": [
       "<div>\n",
       "<style scoped>\n",
       "    .dataframe tbody tr th:only-of-type {\n",
       "        vertical-align: middle;\n",
       "    }\n",
       "\n",
       "    .dataframe tbody tr th {\n",
       "        vertical-align: top;\n",
       "    }\n",
       "\n",
       "    .dataframe thead th {\n",
       "        text-align: right;\n",
       "    }\n",
       "</style>\n",
       "<table border=\"1\" class=\"dataframe\">\n",
       "  <thead>\n",
       "    <tr style=\"text-align: right;\">\n",
       "      <th></th>\n",
       "      <th>geolocation_0</th>\n",
       "      <th>geolocation_lat</th>\n",
       "      <th>geolocation_lon</th>\n",
       "    </tr>\n",
       "  </thead>\n",
       "  <tbody>\n",
       "    <tr>\n",
       "      <th>0</th>\n",
       "      <td>NaN</td>\n",
       "      <td>-23.612923</td>\n",
       "      <td>-46.614222</td>\n",
       "    </tr>\n",
       "    <tr>\n",
       "      <th>1</th>\n",
       "      <td>NaN</td>\n",
       "      <td>-23.643962</td>\n",
       "      <td>-46.593475</td>\n",
       "    </tr>\n",
       "    <tr>\n",
       "      <th>2</th>\n",
       "      <td>NaN</td>\n",
       "      <td>-23.568559</td>\n",
       "      <td>-46.647452</td>\n",
       "    </tr>\n",
       "  </tbody>\n",
       "</table>\n",
       "</div>"
      ],
      "text/plain": [
       "   geolocation_0  geolocation_lat  geolocation_lon\n",
       "0            NaN       -23.612923       -46.614222\n",
       "1            NaN       -23.643962       -46.593475\n",
       "2            NaN       -23.568559       -46.647452"
      ]
     },
     "execution_count": 12,
     "metadata": {},
     "output_type": "execute_result"
    }
   ],
   "source": [
    "geolocation.head(3)"
   ]
  },
  {
   "cell_type": "code",
   "execution_count": 13,
   "metadata": {
    "ExecuteTime": {
     "end_time": "2019-08-11T22:54:56.782047Z",
     "start_time": "2019-08-11T22:54:56.187877Z"
    }
   },
   "outputs": [],
   "source": [
    "df_treino = pd.concat([df_treino.drop([\"geoLocation_location\"], axis=1), geolocation], axis=1)"
   ]
  },
  {
   "cell_type": "code",
   "execution_count": 14,
   "metadata": {
    "ExecuteTime": {
     "end_time": "2019-08-11T22:54:56.790091Z",
     "start_time": "2019-08-11T22:54:56.782047Z"
    }
   },
   "outputs": [],
   "source": [
    "colunas_apagar = ['geolocation_0', 'geoLocation_0']"
   ]
  },
  {
   "cell_type": "code",
   "execution_count": 15,
   "metadata": {
    "ExecuteTime": {
     "end_time": "2019-08-11T22:54:57.186357Z",
     "start_time": "2019-08-11T22:54:56.790091Z"
    }
   },
   "outputs": [],
   "source": [
    "df_treino = df_treino.drop(colunas_apagar, 1)"
   ]
  },
  {
   "cell_type": "markdown",
   "metadata": {},
   "source": [
    "# Criando o dataframe exclusivo com imóveis à Venda"
   ]
  },
  {
   "cell_type": "code",
   "execution_count": 16,
   "metadata": {
    "ExecuteTime": {
     "end_time": "2019-08-11T22:54:57.238344Z",
     "start_time": "2019-08-11T22:54:57.186357Z"
    }
   },
   "outputs": [
    {
     "data": {
      "text/plain": [
       "SALE      105332\n",
       "RENTAL     28632\n",
       "Name: pricingInfos_businessType, dtype: int64"
      ]
     },
     "execution_count": 16,
     "metadata": {},
     "output_type": "execute_result"
    }
   ],
   "source": [
    "df_treino['pricingInfos_businessType'].value_counts(dropna=False).nlargest()"
   ]
  },
  {
   "cell_type": "code",
   "execution_count": 17,
   "metadata": {
    "ExecuteTime": {
     "end_time": "2019-08-11T22:54:57.422216Z",
     "start_time": "2019-08-11T22:54:57.238344Z"
    }
   },
   "outputs": [],
   "source": [
    "df_treino = df_treino[(df_treino['pricingInfos_businessType']=='SALE')]"
   ]
  },
  {
   "cell_type": "markdown",
   "metadata": {},
   "source": [
    "# Criando dataframe com as 3 variáveis escolhidas para o teste"
   ]
  },
  {
   "cell_type": "code",
   "execution_count": 18,
   "metadata": {
    "ExecuteTime": {
     "end_time": "2019-08-11T22:57:39.525325Z",
     "start_time": "2019-08-11T22:57:39.206117Z"
    }
   },
   "outputs": [
    {
     "name": "stdout",
     "output_type": "stream",
     "text": [
      "<class 'pandas.core.frame.DataFrame'>\n",
      "Int64Index: 105332 entries, 0 to 133962\n",
      "Data columns (total 37 columns):\n",
      "address_country                  105332 non-null object\n",
      "address_zipCode                  105332 non-null object\n",
      "address_city                     105332 non-null object\n",
      "address_streetNumber             105332 non-null object\n",
      "address_zone                     105332 non-null object\n",
      "address_street                   105332 non-null object\n",
      "address_locationId               105332 non-null object\n",
      "address_district                 105332 non-null object\n",
      "address_unitNumber               105332 non-null object\n",
      "address_state                    105332 non-null object\n",
      "address_neighborhood             105332 non-null object\n",
      "pricingInfos_price               105332 non-null int64\n",
      "pricingInfos_businessType        105332 non-null object\n",
      "pricingInfos_period              419 non-null object\n",
      "pricingInfos_yearlyIptu          87587 non-null float64\n",
      "pricingInfos_rentalTotalPrice    95 non-null float64\n",
      "pricingInfos_monthlyCondoFee     91315 non-null float64\n",
      "usableAreas                      104646 non-null float64\n",
      "description                      105332 non-null object\n",
      "title                            105332 non-null object\n",
      "createdAt                        105332 non-null object\n",
      "publisherId                      105332 non-null object\n",
      "unitTypes                        105332 non-null object\n",
      "listingStatus                    105332 non-null object\n",
      "id                               105332 non-null object\n",
      "parkingSpaces                    102367 non-null float64\n",
      "updatedAt                        100805 non-null object\n",
      "owner                            105332 non-null bool\n",
      "images                           105332 non-null object\n",
      "suites                           95627 non-null float64\n",
      "publicationType                  105332 non-null object\n",
      "bathrooms                        104664 non-null float64\n",
      "totalAreas                       71357 non-null float64\n",
      "bedrooms                         104053 non-null float64\n",
      "geoLocation_precision            105326 non-null object\n",
      "geolocation_lat                  105326 non-null float64\n",
      "geolocation_lon                  105326 non-null float64\n",
      "dtypes: bool(1), float64(11), int64(1), object(24)\n",
      "memory usage: 29.8+ MB\n"
     ]
    }
   ],
   "source": [
    "df_treino.info()"
   ]
  },
  {
   "cell_type": "code",
   "execution_count": 30,
   "metadata": {
    "ExecuteTime": {
     "end_time": "2019-08-11T23:09:00.876008Z",
     "start_time": "2019-08-11T23:09:00.820028Z"
    }
   },
   "outputs": [],
   "source": [
    "df_3var = df_treino[['usableAreas', \n",
    "                     'bathrooms', \n",
    "                     'suites', \n",
    "                     'pricingInfos_price']]"
   ]
  },
  {
   "cell_type": "markdown",
   "metadata": {},
   "source": [
    "### Tratando as variáveis"
   ]
  },
  {
   "cell_type": "code",
   "execution_count": 31,
   "metadata": {
    "ExecuteTime": {
     "end_time": "2019-08-11T23:09:01.995245Z",
     "start_time": "2019-08-11T23:09:01.979254Z"
    }
   },
   "outputs": [
    {
     "data": {
      "text/plain": [
       "usableAreas            686\n",
       "bathrooms              668\n",
       "suites                9705\n",
       "pricingInfos_price       0\n",
       "dtype: int64"
      ]
     },
     "execution_count": 31,
     "metadata": {},
     "output_type": "execute_result"
    }
   ],
   "source": [
    "df_3var.isnull().sum()"
   ]
  },
  {
   "cell_type": "code",
   "execution_count": 32,
   "metadata": {
    "ExecuteTime": {
     "end_time": "2019-08-11T23:09:07.015947Z",
     "start_time": "2019-08-11T23:09:07.003950Z"
    }
   },
   "outputs": [],
   "source": [
    "df_3var['suites'].fillna(df_3var['suites'].mean(),inplace=True)\n",
    "df_3var['bathrooms'].fillna(df_3var['bathrooms'].mean(),inplace=True)\n",
    "df_3var['usableAreas'].fillna(df_3var['usableAreas'].mean(),inplace=True)"
   ]
  },
  {
   "cell_type": "code",
   "execution_count": 33,
   "metadata": {
    "ExecuteTime": {
     "end_time": "2019-08-11T23:09:13.378286Z",
     "start_time": "2019-08-11T23:09:13.370291Z"
    }
   },
   "outputs": [],
   "source": [
    "df_3var['log_usableAreas'] = np.log1p(df_3var['usableAreas'])"
   ]
  },
  {
   "cell_type": "markdown",
   "metadata": {},
   "source": [
    "# Criando o Modelo"
   ]
  },
  {
   "cell_type": "code",
   "execution_count": 34,
   "metadata": {
    "ExecuteTime": {
     "end_time": "2019-08-11T23:09:16.230500Z",
     "start_time": "2019-08-11T23:09:16.202509Z"
    }
   },
   "outputs": [],
   "source": [
    "X = df_3var.drop(['pricingInfos_price'], axis=1)\n",
    "y = np.log1p(df_3var['pricingInfos_price'])"
   ]
  },
  {
   "cell_type": "code",
   "execution_count": 35,
   "metadata": {
    "ExecuteTime": {
     "end_time": "2019-08-11T23:09:16.864056Z",
     "start_time": "2019-08-11T23:09:16.856060Z"
    }
   },
   "outputs": [
    {
     "data": {
      "text/plain": [
       "(105332, 4)"
      ]
     },
     "execution_count": 35,
     "metadata": {},
     "output_type": "execute_result"
    }
   ],
   "source": [
    "X.shape"
   ]
  },
  {
   "cell_type": "code",
   "execution_count": 37,
   "metadata": {
    "ExecuteTime": {
     "end_time": "2019-08-11T23:09:23.122180Z",
     "start_time": "2019-08-11T23:09:23.114183Z"
    }
   },
   "outputs": [
    {
     "data": {
      "text/plain": [
       "(105332,)"
      ]
     },
     "execution_count": 37,
     "metadata": {},
     "output_type": "execute_result"
    }
   ],
   "source": [
    "y.shape"
   ]
  },
  {
   "cell_type": "markdown",
   "metadata": {},
   "source": [
    "# Split"
   ]
  },
  {
   "cell_type": "code",
   "execution_count": 38,
   "metadata": {
    "ExecuteTime": {
     "end_time": "2019-08-11T23:09:24.089297Z",
     "start_time": "2019-08-11T23:09:24.057306Z"
    }
   },
   "outputs": [],
   "source": [
    "X_train, X_test, y_train, y_test = train_test_split(X, y, test_size=0.2, random_state=42)"
   ]
  },
  {
   "cell_type": "markdown",
   "metadata": {},
   "source": [
    "# Escolhendo o melhor modelo"
   ]
  },
  {
   "cell_type": "code",
   "execution_count": 39,
   "metadata": {
    "ExecuteTime": {
     "end_time": "2019-08-11T23:09:40.598737Z",
     "start_time": "2019-08-11T23:09:34.852354Z"
    }
   },
   "outputs": [
    {
     "name": "stdout",
     "output_type": "stream",
     "text": [
      "SCORE TREINO:  0.50503609112634\n",
      "SCORE TESTE:  0.5170226294897327\n",
      "==============================\n",
      "Model LinearRegression(copy_X=True, fit_intercept=True, n_jobs=None, normalize=False)\n",
      "****Results****\n",
      "R2: 0.517\n",
      "\n",
      "MSE: 0.3299\n",
      "\n"
     ]
    },
    {
     "data": {
      "image/png": "[encoded data removed]",
      "text/plain": [
       "<Figure size 864x432 with 1 Axes>"
      ]
     },
     "metadata": {
      "needs_background": "light"
     },
     "output_type": "display_data"
    },
    {
     "name": "stdout",
     "output_type": "stream",
     "text": [
      "SCORE TREINO:  0.7692817554513801\n",
      "SCORE TESTE:  0.6909995160278257\n",
      "==============================\n",
      "Model RandomForestRegressor(bootstrap=True, criterion='mse', max_depth=None,\n",
      "                      max_features='auto', max_leaf_nodes=None,\n",
      "                      min_impurity_decrease=0.0, min_impurity_split=None,\n",
      "                      min_samples_leaf=1, min_samples_split=2,\n",
      "                      min_weight_fraction_leaf=0.0, n_estimators=10,\n",
      "                      n_jobs=None, oob_score=False, random_state=None,\n",
      "                      verbose=0, warm_start=False)\n",
      "****Results****\n",
      "R2: 0.691\n",
      "\n",
      "MSE: 0.211\n",
      "\n"
     ]
    },
    {
     "data": {
      "image/png": "[encoded data removed]",
      "text/plain": [
       "<Figure size 432x288 with 1 Axes>"
      ]
     },
     "metadata": {
      "needs_background": "light"
     },
     "output_type": "display_data"
    },
    {
     "name": "stdout",
     "output_type": "stream",
     "text": [
      "SCORE TREINO:  0.7033298329601388\n",
      "SCORE TESTE:  0.7014565551817447\n",
      "==============================\n",
      "Model GradientBoostingRegressor(alpha=0.9, criterion='friedman_mse', init=None,\n",
      "                          learning_rate=0.1, loss='ls', max_depth=3,\n",
      "                          max_features=None, max_leaf_nodes=None,\n",
      "                          min_impurity_decrease=0.0, min_impurity_split=None,\n",
      "                          min_samples_leaf=1, min_samples_split=2,\n",
      "                          min_weight_fraction_leaf=0.0, n_estimators=100,\n",
      "                          n_iter_no_change=None, presort='auto',\n",
      "                          random_state=None, subsample=1.0, tol=0.0001,\n",
      "                          validation_fraction=0.1, verbose=0, warm_start=False)\n",
      "****Results****\n",
      "R2: 0.7015\n",
      "\n",
      "MSE: 0.2039\n",
      "\n"
     ]
    },
    {
     "data": {
      "image/png": "[encoded data removed]",
      "text/plain": [
       "<Figure size 432x288 with 1 Axes>"
      ]
     },
     "metadata": {
      "needs_background": "light"
     },
     "output_type": "display_data"
    }
   ],
   "source": [
    "linear_model = LinearRegression()\n",
    "rforest_model = RandomForestRegressor()\n",
    "grad_model = GradientBoostingRegressor()\n",
    "\n",
    "models = [linear_model, rforest_model, grad_model]\n",
    "plt.figure(figsize=(12,6))\n",
    "\n",
    "for model in models:\n",
    "    model.fit(X_train, y_train)\n",
    "    yhat = model.predict(X_test)\n",
    "\n",
    "    #Metrics\n",
    "    r2 = r2_score(y_test, yhat)\n",
    "    mse = mean_squared_error(y_test, yhat)\n",
    "    \n",
    "    print(\"SCORE TREINO: \", model.score(X_train, y_train))\n",
    "    print(\"SCORE TESTE: \", model.score(X_test, y_test))\n",
    "        \n",
    "    print(\"=\"*30)\n",
    "    print(f'Model {str(model)}')\n",
    "    print('****Results****')\n",
    "    print(f'R2: {round(r2, 4)}\\n')  #quanto mais perto de 1 melhor\n",
    "    print(f'MSE: {round(mse, 4)}\\n')   #quanto mais perto de zero melhor\n",
    "    plt.scatter(y_test, yhat)    \n",
    "    plt.show()"
   ]
  },
  {
   "cell_type": "markdown",
   "metadata": {},
   "source": [
    "# Treinando o melhor modelo"
   ]
  },
  {
   "cell_type": "code",
   "execution_count": 40,
   "metadata": {
    "ExecuteTime": {
     "end_time": "2019-08-11T23:11:03.690692Z",
     "start_time": "2019-08-11T23:10:58.306115Z"
    }
   },
   "outputs": [
    {
     "data": {
      "text/plain": [
       "GradientBoostingRegressor(alpha=0.9, criterion='friedman_mse', init=None,\n",
       "                          learning_rate=0.1, loss='ls', max_depth=3,\n",
       "                          max_features=None, max_leaf_nodes=None,\n",
       "                          min_impurity_decrease=0.0, min_impurity_split=None,\n",
       "                          min_samples_leaf=1, min_samples_split=2,\n",
       "                          min_weight_fraction_leaf=0.0, n_estimators=100,\n",
       "                          n_iter_no_change=None, presort='auto',\n",
       "                          random_state=None, subsample=1.0, tol=0.0001,\n",
       "                          validation_fraction=0.1, verbose=0, warm_start=False)"
      ]
     },
     "execution_count": 40,
     "metadata": {},
     "output_type": "execute_result"
    }
   ],
   "source": [
    "grad_model.fit(X,y)"
   ]
  },
  {
   "cell_type": "code",
   "execution_count": 41,
   "metadata": {
    "ExecuteTime": {
     "end_time": "2019-08-11T23:11:08.518844Z",
     "start_time": "2019-08-11T23:11:08.313316Z"
    }
   },
   "outputs": [
    {
     "name": "stdout",
     "output_type": "stream",
     "text": [
      "SCORE TREINO:  0.7033205084174647\n",
      "SCORE TESTE:  0.706231036243973\n"
     ]
    }
   ],
   "source": [
    "print(\"SCORE TREINO: \", grad_model.score(X_train, y_train))\n",
    "print(\"SCORE TESTE: \",grad_model.score(X_test, y_test))"
   ]
  },
  {
   "cell_type": "markdown",
   "metadata": {},
   "source": [
    "# Importando o arquivo teste"
   ]
  },
  {
   "cell_type": "code",
   "execution_count": 42,
   "metadata": {
    "ExecuteTime": {
     "end_time": "2019-08-11T23:11:56.014756Z",
     "start_time": "2019-08-11T23:11:56.006757Z"
    }
   },
   "outputs": [],
   "source": [
    "url_teste = \"https://s3.amazonaws.com/grupozap-data-challenge/data/source-4-ds-test.json.zip\""
   ]
  },
  {
   "cell_type": "code",
   "execution_count": 43,
   "metadata": {
    "ExecuteTime": {
     "end_time": "2019-08-11T23:12:17.004520Z",
     "start_time": "2019-08-11T23:12:03.499808Z"
    }
   },
   "outputs": [],
   "source": [
    "json_teste = pd.read_json(url_teste, encoding=\"utf8\", lines=True)"
   ]
  },
  {
   "cell_type": "markdown",
   "metadata": {},
   "source": [
    "# Normalizando as colunas"
   ]
  },
  {
   "cell_type": "code",
   "execution_count": 44,
   "metadata": {
    "ExecuteTime": {
     "end_time": "2019-08-11T23:12:56.383543Z",
     "start_time": "2019-08-11T23:12:35.215737Z"
    }
   },
   "outputs": [],
   "source": [
    "df_teste = (pd.DataFrame(json_teste['pricingInfos']\n",
    "                     .values.tolist())\n",
    "                     .add_prefix('pricingInfos_')\n",
    "                     .join(json_teste.drop('pricingInfos', 1)))\n",
    "\n",
    "df_teste = (pd.DataFrame(df_teste['address']\n",
    "                     .values.tolist())\n",
    "                     .add_prefix('address_')\n",
    "                     .join(df_teste.drop('address', 1)))\n",
    "\n",
    "s = df_teste['address_geoLocation'].apply(pd.Series).add_prefix(\"geoLocation_\")\n",
    "df_teste = pd.concat([df_teste.drop([\"address_geoLocation\"], axis=1), s], axis=1)\n",
    "geolocation = df_teste['geoLocation_location'].apply(pd.Series).add_prefix(\"geolocation_\")\n",
    "df_teste = pd.concat([df_teste.drop([\"geoLocation_location\"], axis=1), geolocation], axis=1)\n",
    "colunas_apagar = ['geolocation_0', 'geoLocation_0']\n",
    "df_teste = df_teste.drop(colunas_apagar, 1)"
   ]
  },
  {
   "cell_type": "markdown",
   "metadata": {},
   "source": [
    "# Criando o dataframe teste para imóveis à Venda"
   ]
  },
  {
   "cell_type": "code",
   "execution_count": 51,
   "metadata": {
    "ExecuteTime": {
     "end_time": "2019-08-11T23:17:49.278538Z",
     "start_time": "2019-08-11T23:17:49.226551Z"
    }
   },
   "outputs": [],
   "source": [
    "df_teste = df_teste[(df_teste['pricingInfos_businessType']=='SALE')]"
   ]
  },
  {
   "cell_type": "code",
   "execution_count": 52,
   "metadata": {
    "ExecuteTime": {
     "end_time": "2019-08-11T23:17:50.115924Z",
     "start_time": "2019-08-11T23:17:50.107926Z"
    }
   },
   "outputs": [],
   "source": [
    "X_Real = df_teste[list(X)]"
   ]
  },
  {
   "cell_type": "code",
   "execution_count": 53,
   "metadata": {
    "ExecuteTime": {
     "end_time": "2019-08-11T23:17:51.193299Z",
     "start_time": "2019-08-11T23:17:51.177305Z"
    }
   },
   "outputs": [],
   "source": [
    "X_Real['suites'].fillna(X_Real['suites'].mean(),inplace=True)\n",
    "X_Real['bathrooms'].fillna(X_Real['bathrooms'].mean(),inplace=True)\n",
    "X_Real['usableAreas'].fillna(X_Real['usableAreas'].mean(),inplace=True)"
   ]
  },
  {
   "cell_type": "code",
   "execution_count": 54,
   "metadata": {
    "ExecuteTime": {
     "end_time": "2019-08-11T23:17:52.693599Z",
     "start_time": "2019-08-11T23:17:52.681603Z"
    }
   },
   "outputs": [],
   "source": [
    "X_Real['log_usableAreas'] = np.log1p(X_Real['usableAreas'])"
   ]
  },
  {
   "cell_type": "code",
   "execution_count": 55,
   "metadata": {
    "ExecuteTime": {
     "end_time": "2019-08-11T23:17:53.844254Z",
     "start_time": "2019-08-11T23:17:53.824262Z"
    }
   },
   "outputs": [
    {
     "data": {
      "text/html": [
       "<div>\n",
       "<style scoped>\n",
       "    .dataframe tbody tr th:only-of-type {\n",
       "        vertical-align: middle;\n",
       "    }\n",
       "\n",
       "    .dataframe tbody tr th {\n",
       "        vertical-align: top;\n",
       "    }\n",
       "\n",
       "    .dataframe thead th {\n",
       "        text-align: right;\n",
       "    }\n",
       "</style>\n",
       "<table border=\"1\" class=\"dataframe\">\n",
       "  <thead>\n",
       "    <tr style=\"text-align: right;\">\n",
       "      <th></th>\n",
       "      <th>usableAreas</th>\n",
       "      <th>bathrooms</th>\n",
       "      <th>suites</th>\n",
       "      <th>log_usableAreas</th>\n",
       "    </tr>\n",
       "  </thead>\n",
       "  <tbody>\n",
       "    <tr>\n",
       "      <th>0</th>\n",
       "      <td>47.0</td>\n",
       "      <td>1.0</td>\n",
       "      <td>0.0</td>\n",
       "      <td>3.871201</td>\n",
       "    </tr>\n",
       "    <tr>\n",
       "      <th>1</th>\n",
       "      <td>55.0</td>\n",
       "      <td>0.0</td>\n",
       "      <td>0.0</td>\n",
       "      <td>4.025352</td>\n",
       "    </tr>\n",
       "    <tr>\n",
       "      <th>2</th>\n",
       "      <td>92.0</td>\n",
       "      <td>3.0</td>\n",
       "      <td>1.0</td>\n",
       "      <td>4.532599</td>\n",
       "    </tr>\n",
       "    <tr>\n",
       "      <th>3</th>\n",
       "      <td>145.0</td>\n",
       "      <td>4.0</td>\n",
       "      <td>3.0</td>\n",
       "      <td>4.983607</td>\n",
       "    </tr>\n",
       "    <tr>\n",
       "      <th>4</th>\n",
       "      <td>76.0</td>\n",
       "      <td>2.0</td>\n",
       "      <td>1.0</td>\n",
       "      <td>4.343805</td>\n",
       "    </tr>\n",
       "  </tbody>\n",
       "</table>\n",
       "</div>"
      ],
      "text/plain": [
       "   usableAreas  bathrooms  suites  log_usableAreas\n",
       "0         47.0        1.0     0.0         3.871201\n",
       "1         55.0        0.0     0.0         4.025352\n",
       "2         92.0        3.0     1.0         4.532599\n",
       "3        145.0        4.0     3.0         4.983607\n",
       "4         76.0        2.0     1.0         4.343805"
      ]
     },
     "execution_count": 55,
     "metadata": {},
     "output_type": "execute_result"
    }
   ],
   "source": [
    "X_Real.head()"
   ]
  },
  {
   "cell_type": "markdown",
   "metadata": {},
   "source": [
    "# Aplicando o Predict"
   ]
  },
  {
   "cell_type": "code",
   "execution_count": 56,
   "metadata": {
    "ExecuteTime": {
     "end_time": "2019-08-11T23:18:01.472724Z",
     "start_time": "2019-08-11T23:18:01.436737Z"
    }
   },
   "outputs": [],
   "source": [
    "y_pred = grad_model.predict(X_Real)"
   ]
  },
  {
   "cell_type": "code",
   "execution_count": 57,
   "metadata": {
    "ExecuteTime": {
     "end_time": "2019-08-11T23:18:13.915160Z",
     "start_time": "2019-08-11T23:18:13.903161Z"
    }
   },
   "outputs": [],
   "source": [
    "df_teste['price'] = np.exp(y_pred)"
   ]
  },
  {
   "cell_type": "markdown",
   "metadata": {},
   "source": [
    "### Exportando o arquivo csv com o resultado"
   ]
  },
  {
   "cell_type": "code",
   "execution_count": 59,
   "metadata": {
    "ExecuteTime": {
     "end_time": "2019-08-11T23:23:21.449510Z",
     "start_time": "2019-08-11T23:23:21.425516Z"
    }
   },
   "outputs": [],
   "source": [
    "df_resultado = pd.DataFrame(df_teste, columns=['id','price'])"
   ]
  },
  {
   "cell_type": "code",
   "execution_count": 60,
   "metadata": {
    "ExecuteTime": {
     "end_time": "2019-08-11T23:23:30.770199Z",
     "start_time": "2019-08-11T23:23:30.662198Z"
    }
   },
   "outputs": [],
   "source": [
    "df_resultado.to_csv(r'./resultado_3_variaveis.csv', index=False)"
   ]
  },
  {
   "cell_type": "markdown",
   "metadata": {},
   "source": [
    "# Histograma"
   ]
  },
  {
   "cell_type": "code",
   "execution_count": 61,
   "metadata": {
    "ExecuteTime": {
     "end_time": "2019-08-11T23:36:32.247015Z",
     "start_time": "2019-08-11T23:36:31.741112Z"
    }
   },
   "outputs": [
    {
     "data": {
      "image/png": "[encoded data removed]",
      "text/plain": [
       "<Figure size 1080x360 with 1 Axes>"
      ]
     },
     "metadata": {
      "needs_background": "light"
     },
     "output_type": "display_data"
    }
   ],
   "source": [
    "df_teste[['price']].plot(\n",
    "    kind='hist',    \n",
    "    figsize=(15, 5),\n",
    "    bins=50,\n",
    "    title='Teste'\n",
    ");"
   ]
  },
  {
   "cell_type": "code",
   "execution_count": null,
   "metadata": {},
   "outputs": [],
   "source": []
  }
 ],
 "metadata": {
  "kernelspec": {
   "display_name": "Python 3",
   "language": "python",
   "name": "python3"
  },
  "language_info": {
   "codemirror_mode": {
    "name": "ipython",
    "version": 3
   },
   "file_extension": ".py",
   "mimetype": "text/x-python",
   "name": "python",
   "nbconvert_exporter": "python",
   "pygments_lexer": "ipython3",
   "version": "3.7.3"
  },
  "toc": {
   "base_numbering": 1,
   "nav_menu": {},
   "number_sections": true,
   "sideBar": true,
   "skip_h1_title": false,
   "title_cell": "Table of Contents",
   "title_sidebar": "Contents",
   "toc_cell": false,
   "toc_position": {},
   "toc_section_display": true,
   "toc_window_display": false
  }
 },
 "nbformat": 4,
 "nbformat_minor": 2
}
